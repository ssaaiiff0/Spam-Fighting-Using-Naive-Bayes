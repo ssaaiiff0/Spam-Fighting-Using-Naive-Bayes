{
 "cells": [
  {
   "cell_type": "markdown",
   "id": "dc442ddc",
   "metadata": {},
   "source": [
    "## build an efficient spam detection system using machine learning\n",
    "We will create a machine learning system capable of predicting whether a given email message matches a random email or not. To do this, we will use the TREC 2007 Spam Corpus as the dataset.\n",
    "\n",
    "### DataSet\n",
    "[Click here to visit the TREC 2007 Spam Corpus](https://plg.uwaterloo.ca/~gvcormac/treccorpus07/)\n",
    "\n",
    "The corpus trec07p contains 75,419 messages:\n",
    "\n",
    "            25220 ham\n",
    "            50199 spam\n",
    "            \n",
    "            \n",
    "These messages constitute all the messages delivered to a particular server between these dates:\n",
    "\n",
    "        Sun, 8 Apr 2007 13:07:21 \n",
    "        Fri, 6 Jul 2007 07:04:53 \n",
    "\n",
    "\n",
    "\n",
    "\n",
    "\n",
    "\n"
   ]
  },
  {
   "cell_type": "code",
   "execution_count": 65,
   "id": "37480bdc",
   "metadata": {},
   "outputs": [
    {
     "name": "stdout",
     "output_type": "stream",
     "text": [
      "['data', 'delay', 'full', 'partial', 'README.txt']\n"
     ]
    }
   ],
   "source": [
    "import os\n",
    "import email\n",
    "import sklearn\n",
    "\n",
    "dataset_path = r'C:\\Users\\Saif AbuDalo\\Desktop\\project\\trec07p'\n",
    "print(os.listdir(dataset_path))\n"
   ]
  },
  {
   "cell_type": "markdown",
   "id": "4e3ad1ce",
   "metadata": {},
   "source": [
    "### We will focus on the Full and the data.\n",
    "\n",
    "\n",
    "<p>Full &rarr; Index (Email classifications)</p>\n",
    "<p>Data &rarr; Email</p>\n"
   ]
  },
  {
   "cell_type": "markdown",
   "id": "448ce150",
   "metadata": {},
   "source": [
    "### 1.Create the Labels Dictionary"
   ]
  },
  {
   "cell_type": "code",
   "execution_count": 66,
   "id": "49bc84c0",
   "metadata": {},
   "outputs": [],
   "source": [
    "DATA_DIR = r'C:\\Users\\Saif AbuDalo\\Desktop\\project\\trec07p\\data'\n",
    "LABELS_FILE = r'C:\\Users\\Saif AbuDalo\\Desktop\\project\\trec07p\\full\\index'\n",
    "\n",
    "\n",
    "labels = {}\n",
    "\n",
    "# Read the labels\n",
    "with open(LABELS_FILE) as f:\n",
    "    for line in f:  # Properly indented\n",
    "        line = line.strip()  # Indent inside the loop\n",
    "        label, key = line.split()\n",
    "        labels[key.split('/')[-1]] = 1 if label.lower() == 'ham' else 0\n",
    "\n",
    "\n",
    "#print(labels)"
   ]
  },
  {
   "cell_type": "markdown",
   "id": "4229fa79",
   "metadata": {},
   "source": [
    "### Converting the Index File into a Dictionary\n",
    "\n",
    "In this section, we will convert the **index file**, which contains email classifications (either **spam** or **ham**), into a dictionary. The index file contains entries that associate each email with a classification label and its corresponding file path.\n",
    "\n",
    "Here’s an example of the content from the **index file**:\n",
    "\n",
    "spam ../data/inmail.1\n",
    "ham ../data/inmail.2\n",
    "spam ../data/inmail.3\n",
    "spam ../data/inmail.4\n",
    "spam ../data/inmail.5|\n",
    "\n",
    "Our goal is to transform this into a dictionary where:\n",
    "- The **keys** are the filenames (e.g., `inmail.1`, `inmail.2`, etc.).\n",
    "- The **values** represent the classification of the email: `1` for **ham** and `0` for **spam**.\n",
    "\n",
    "The resulting dictionary will look like this:\n",
    "\n",
    "```python\n",
    "{'inmail.1': 0, 'inmail.2': 1, 'inmail.3': 0, 'inmail.4': 0, 'inmail.5': 0}\n"
   ]
  },
  {
   "cell_type": "markdown",
   "id": "cc7fe387",
   "metadata": {},
   "source": [
    "### 2.Create X and y\n",
    "\n",
    "```python\n",
    "X: list of string, each is the subject + body of the corresponding email\n",
    "y: list of all labels (0:spam, 1:ham)\n"
   ]
  },
  {
   "cell_type": "code",
   "execution_count": 67,
   "id": "fbcc66d1",
   "metadata": {},
   "outputs": [],
   "source": [
    "def read_email_files():\n",
    "    X = []\n",
    "    y = []\n",
    "    for i in range(len(labels)):  # Loop through labels\n",
    "        filename = f'inmail.{i+1}'  # Generate email filename\n",
    "        # Extract subject and body text from a single email file\n",
    "        email_path = os.path.join(DATA_DIR, filename)\n",
    "        email_str = extract_email_text(email_path)  # Extract text from email\n",
    "        X.append(email_str)  # Add email text to X\n",
    "        y.append(labels[filename])  # Add corresponding label to y\n",
    "    return X, y\n",
    "\n",
    "\n",
    "\n"
   ]
  },
  {
   "cell_type": "code",
   "execution_count": 68,
   "id": "2e1b977d",
   "metadata": {},
   "outputs": [],
   "source": [
    "def extract_email_text(path):\n",
    "    \"\"\"\n",
    "    Extract the subject and body from an email file.\n",
    "    \"\"\"\n",
    "    # Load a single email from an input file\n",
    "    with open(path, 'r', errors='ignore') as f:\n",
    "        # Read the email and store it in msg\n",
    "        msg = email.message_from_file(f)\n",
    "        if not msg: \n",
    "            return \"\"\n",
    "\n",
    "        # Read the email subject\n",
    "        subject = msg['Subject']\n",
    "        if not subject: \n",
    "            subject = \"\"\n",
    "\n",
    "        # Read the email body\n",
    "        body = ' '.join(\n",
    "            m for m in flatten_to_string(msg.get_payload()) if isinstance(m, str)\n",
    "        )\n",
    "        if not body: \n",
    "            body = \"\"\n",
    "\n",
    "    # Return combined subject and body\n",
    "    return f\"{subject} {body}\".strip()"
   ]
  },
  {
   "cell_type": "code",
   "execution_count": 69,
   "id": "b62a2454",
   "metadata": {},
   "outputs": [],
   "source": [
    "def flatten_to_string(parts):\n",
    "    ret = []\n",
    "    \n",
    "    # If part is a string, add it directly\n",
    "    if isinstance(parts, str):\n",
    "        ret.append(parts)\n",
    "    \n",
    "    # If part is a list, recursively process each item\n",
    "    elif isinstance(parts, list):\n",
    "        for part in parts:\n",
    "            ret += flatten_to_string(part)\n",
    "    \n",
    "    # If the part's content type is 'text/plain', add its payload\n",
    "    elif parts.get_content_type() == 'text/plain':\n",
    "        ret += parts.get_payload()\n",
    "    \n",
    "    return ret\n"
   ]
  },
  {
   "cell_type": "markdown",
   "id": "41771922",
   "metadata": {},
   "source": [
    "### Splitting Dataset"
   ]
  },
  {
   "cell_type": "code",
   "execution_count": 70,
   "id": "6c337301",
   "metadata": {},
   "outputs": [],
   "source": [
    "from sklearn.model_selection import train_test_split\n",
    "X_train, X_test, y_train, y_test= train_test_split(X, y, train_size=0.7, random_state=2)"
   ]
  },
  {
   "cell_type": "markdown",
   "id": "70d849b5",
   "metadata": {},
   "source": [
    "### Splitting the Dataset into Training and Testing Sets\n",
    "\n",
    "To train and evaluate our model effectively, we need to split the dataset into training and testing sets. The training set will be used to train the model, while the testing set will evaluate its performance on unseen data. \n",
    "\n",
    "In this code, we use `train_test_split` from the `sklearn.model_selection` module:\n",
    "- `X`: The feature matrix containing the input data.\n",
    "- `y`: The labels corresponding to each input (spam or ham).\n",
    "- `train_size`: Specifies the proportion of data to be used for training (70% in this case).\n",
    "- `random_state`: Ensures reproducibility by controlling the randomness of the split.\n",
    "\n",
    "The output variables are:\n",
    "- `X_train`: Training data features.\n",
    "- `X_test`: Testing data features.\n",
    "- `y_train`: Training data labels.\n",
    "- `y_test`: Testing data labels.\n",
    "\n",
    "Here is the implementation:\n"
   ]
  },
  {
   "cell_type": "markdown",
   "id": "654b1d65",
   "metadata": {},
   "source": [
    "### Convert Raw Data To Feature Vector"
   ]
  },
  {
   "cell_type": "code",
   "execution_count": 71,
   "id": "c8bf372d",
   "metadata": {},
   "outputs": [],
   "source": [
    "from sklearn.feature_extraction.text import CountVectorizer\n",
    "vectorizer = CountVectorizer()\n",
    "X_train_vector = vectorizer.fit_transform(X_train)\n",
    "X_test_vector = vectorizer.transform(X_test)"
   ]
  },
  {
   "cell_type": "markdown",
   "id": "eef7c9cf",
   "metadata": {},
   "source": [
    "### Feature Extraction Using CountVectorizer\n",
    "\n",
    "In this section, we use the **CountVectorizer** from `sklearn.feature_extraction.text` to convert text data into numerical feature vectors. This transformation is essential for machine learning models to process textual data.\n",
    "\n",
    "#### Key Steps:\n",
    "1. **`CountVectorizer`**:\n",
    "   - Converts a collection of text documents into a matrix of token counts.\n",
    "   - Each column in the matrix corresponds to a unique word from the dataset.\n",
    "   - The values represent the frequency of the word in the corresponding document.\n",
    "\n",
    "2. **Training and Testing Vectors**:\n",
    "   - `fit_transform(X_train)`: Fits the vectorizer on the training data and transforms it into a sparse matrix of token counts.\n",
    "   - `transform(X_test)`: Transforms the test data into the same feature space without refitting, ensuring consistency between training and testing data.\n",
    "\n"
   ]
  },
  {
   "cell_type": "markdown",
   "id": "c71ae4fc",
   "metadata": {},
   "source": [
    "### Naive Bayes Classification"
   ]
  },
  {
   "cell_type": "code",
   "execution_count": 72,
   "id": "76afa262",
   "metadata": {},
   "outputs": [
    {
     "name": "stdout",
     "output_type": "stream",
     "text": [
      "Accuracy 99.7%\n"
     ]
    }
   ],
   "source": [
    "from sklearn.naive_bayes import MultinomialNB\n",
    "from sklearn.metrics import accuracy_score\n",
    "# Initialize the classifier and make label predictions\n",
    "mnb = MultinomialNB()\n",
    "mnb.fit(X_train_vector, y_train)\n",
    "y_pred = mnb.predict(X_test_vector)\n",
    "# Print results\n",
    "print('Accuracy {:.1%}'.format(accuracy_score(y_test, y_pred)))"
   ]
  },
  {
   "cell_type": "markdown",
   "id": "af1ca290",
   "metadata": {},
   "source": [
    "### Training and Evaluating a Multinomial Naive Bayes Classifier\n",
    "\n",
    "In this section, we use the **Multinomial Naive Bayes (MNB)** algorithm to train a classifier for spam detection and evaluate its performance.\n",
    "\n",
    "#### Key Steps:\n",
    "\n",
    "1. **Multinomial Naive Bayes**:\n",
    "   - A probabilistic classifier that works well for discrete data like text word counts.\n",
    "   - Based on Bayes' theorem with an assumption of feature independence.\n",
    "\n",
    "2. **Training**:\n",
    "   - The model is trained on the vectorized training data (`X_train_vector`) with corresponding labels (`y_train`).\n",
    "\n",
    "3. **Prediction**:\n",
    "   - The trained model is used to predict the labels (`y_pred`) for the test data (`X_test_vector`).\n",
    "\n",
    "4. **Evaluation**:\n",
    "   - The `accuracy_score` metric is used to measure the percentage of correctly classified emails.\n",
    "\n"
   ]
  },
  {
   "cell_type": "markdown",
   "id": "40ad6e9a",
   "metadata": {},
   "source": [
    "### perform different experiments using different data Splits for training and testing sets:\n",
    "(80:20), (60:40), (50:50), (40:60), (20:80)."
   ]
  },
  {
   "cell_type": "code",
   "execution_count": 73,
   "id": "e2b61449",
   "metadata": {},
   "outputs": [
    {
     "name": "stdout",
     "output_type": "stream",
     "text": [
      "Train:Test Split = 80:19 -> Accuracy: 99.70%\n",
      "Train:Test Split = 60:40 -> Accuracy: 99.72%\n",
      "Train:Test Split = 50:50 -> Accuracy: 99.72%\n",
      "Train:Test Split = 40:60 -> Accuracy: 99.74%\n",
      "Train:Test Split = 20:80 -> Accuracy: 99.68%\n"
     ]
    }
   ],
   "source": [
    "from sklearn.model_selection import train_test_split\n",
    "from sklearn.feature_extraction.text import CountVectorizer\n",
    "from sklearn.naive_bayes import MultinomialNB\n",
    "from sklearn.metrics import accuracy_score\n",
    "\n",
    "# Initialize a list of splits\n",
    "splits = [0.8, 0.6, 0.5, 0.4, 0.2]\n",
    "\n",
    "# Initialize a vectorizer\n",
    "vectorizer = CountVectorizer()\n",
    "\n",
    "# Iterate over each split\n",
    "for split in splits:\n",
    "    # Split the data\n",
    "    X_train, X_test, y_train, y_test = train_test_split(X, y, train_size=split, random_state=2)\n",
    "    \n",
    "    # Vectorize the data\n",
    "    X_train_vector = vectorizer.fit_transform(X_train)\n",
    "    X_test_vector = vectorizer.transform(X_test)\n",
    "    \n",
    "    # Train the Naive Bayes classifier\n",
    "    mnb = MultinomialNB()\n",
    "    mnb.fit(X_train_vector, y_train)\n",
    "    \n",
    "    # Predict on the test set\n",
    "    y_pred = mnb.predict(X_test_vector)\n",
    "    \n",
    "    # Evaluate and print the results\n",
    "    accuracy = accuracy_score(y_test, y_pred)\n",
    "    print(f\"Train:Test Split = {int(split * 100)}:{int((1 - split) * 100)} -> Accuracy: {accuracy:.2%}\")\n"
   ]
  },
  {
   "cell_type": "markdown",
   "id": "19145d23",
   "metadata": {},
   "source": [
    "# Visualization of Model Accuracy Across Different Train-Test Splits\n",
    "\n",
    "In this section, we will analyze the impact of various train-test splits on the model's accuracy. The splits used are:\n",
    "\n",
    "- 80:20\n",
    "- 60:40\n",
    "- 50:50\n",
    "- 40:60\n",
    "- 20:80\n",
    "\n",
    "The model's accuracy for each split is plotted to observe any trends or variations."
   ]
  },
  {
   "cell_type": "markdown",
   "id": "09261a63",
   "metadata": {},
   "source": [
    "### Code to Compare and Visualize Results\n"
   ]
  },
  {
   "cell_type": "code",
   "execution_count": 75,
   "id": "9eb77afd",
   "metadata": {},
   "outputs": [
    {
     "data": {
      "image/png": "[encoded data removed]",
      "text/plain": [
       "<Figure size 800x500 with 1 Axes>"
      ]
     },
     "metadata": {},
     "output_type": "display_data"
    }
   ],
   "source": [
    "import matplotlib.pyplot as plt\n",
    "\n",
    "# Train-Test Splits and Corresponding Accuracies\n",
    "splits = ['80:20', '60:40', '50:50', '40:60', '20:80']\n",
    "accuracies = [99.70, 99.72, 99.72, 99.74, 99.68]  # Replace with your exact values if needed\n",
    "\n",
    "# Create the plot\n",
    "plt.figure(figsize=(8, 5))\n",
    "plt.plot(splits, accuracies, marker='o', linestyle='-', color='b', label='Accuracy')\n",
    "plt.title('Model Accuracy for Different Train-Test Splits')\n",
    "plt.xlabel('Train:Test Split')\n",
    "plt.ylabel('Accuracy (%)')\n",
    "plt.ylim(99.6, 99.8)  # Adjust based on your accuracy range\n",
    "plt.grid(True, linestyle='--', alpha=0.7)\n",
    "plt.legend()\n",
    "plt.show()\n"
   ]
  },
  {
   "cell_type": "markdown",
   "id": "a5768cec",
   "metadata": {},
   "source": [
    "### Insights from the Chart\n",
    "\n",
    "1. **Trend Observation**: The accuracy values are stable across different train-test splits, with slight improvements at specific splits.\n",
    "2. **Optimal Split**: The highest accuracy (99.74%) is observed with the 40:60 split.\n",
    "3. **Model Robustness**: The small variation in accuracy (99.68% to 99.74%) highlights the model's consistency across different data splits.\n",
    "\n",
    "This visualization helps in understanding the trade-offs and stability of the model when trained with varying amounts of data.\n"
   ]
  },
  {
   "cell_type": "markdown",
   "id": "5b2fa97c",
   "metadata": {},
   "source": [
    "## Saif Abu-Dalo"
   ]
  }
 ],
 "metadata": {
  "kernelspec": {
   "display_name": "Python 3 (ipykernel)",
   "language": "python",
   "name": "python3"
  },
  "language_info": {
   "codemirror_mode": {
    "name": "ipython",
    "version": 3
   },
   "file_extension": ".py",
   "mimetype": "text/x-python",
   "name": "python",
   "nbconvert_exporter": "python",
   "pygments_lexer": "ipython3",
   "version": "3.10.9"
  }
 },
 "nbformat": 4,
 "nbformat_minor": 5
}
